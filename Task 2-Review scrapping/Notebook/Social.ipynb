{
 "cells": [
  {
   "cell_type": "code",
   "execution_count": 5,
   "metadata": {
    "colab": {
     "base_uri": "https://localhost:8080/",
     "height": 185
    },
    "colab_type": "code",
    "id": "RmV5to_v9vtp",
    "outputId": "42670e46-4d74-4397-855c-2d6f85b6a29d"
   },
   "outputs": [
    {
     "name": "stdout",
     "output_type": "stream",
     "text": [
      "Collecting google-play-scraper\n",
      "\u001b[?25l  Downloading https://files.pythonhosted.org/packages/4c/54/a631f11e1b9380eede76b5734711acf01c1d570c0a06bc5b2db894cc5e4e/google-play-scraper-0.0.2.7.tar.gz (47kB)\n",
      "\r",
      "\u001b[K     |██████▉                         | 10kB 13.1MB/s eta 0:00:01\r",
      "\u001b[K     |█████████████▊                  | 20kB 1.8MB/s eta 0:00:01\r",
      "\u001b[K     |████████████████████▌           | 30kB 2.2MB/s eta 0:00:01\r",
      "\u001b[K     |███████████████████████████▍    | 40kB 2.6MB/s eta 0:00:01\r",
      "\u001b[K     |████████████████████████████████| 51kB 1.6MB/s \n",
      "\u001b[?25hBuilding wheels for collected packages: google-play-scraper\n",
      "  Building wheel for google-play-scraper (setup.py) ... \u001b[?25l\u001b[?25hdone\n",
      "  Created wheel for google-play-scraper: filename=google_play_scraper-0.0.2.7-cp36-none-any.whl size=21580 sha256=27364fac5f08ade7ddb5c4ec0e97d22c5aef6bfe657cc69a9264ff177e1b28b1\n",
      "  Stored in directory: /root/.cache/pip/wheels/c7/61/e5/e7b73d37b4a15df7d35410e3a617cb13b2d600b1f30f21eeb6\n",
      "Successfully built google-play-scraper\n",
      "Installing collected packages: google-play-scraper\n",
      "Successfully installed google-play-scraper-0.0.2.7\n"
     ]
    }
   ],
   "source": [
    "pip install google-play-scraper"
   ]
  },
  {
   "cell_type": "code",
   "execution_count": 9,
   "metadata": {
    "colab": {},
    "colab_type": "code",
    "id": "LLztkEkG7ajJ"
   },
   "outputs": [],
   "source": [
    "import json\n",
    "import pandas as pd\n",
    "\n",
    "from google_play_scraper import Sort, reviews, app"
   ]
  },
  {
   "cell_type": "code",
   "execution_count": 10,
   "metadata": {
    "colab": {},
    "colab_type": "code",
    "id": "1WhGR2wR7dOm"
   },
   "outputs": [],
   "source": [
    "app_packages=[\n",
    "              'com.mitron.tv',\n",
    "             'com.roposo.android',\n",
    "              'com.zhiliaoapp.musically',\n",
    "              'com.instagram.android',\n",
    "              'app.buzz.share.lite',\n",
    "              'com.facebook.katana',\n",
    "              'com.snapchat.android',\n",
    "              'in.mohalla.sharechat',\n",
    "              'com.yy.hiyo',\n",
    "              'com.uc.vmate'\n",
    "\n",
    "]"
   ]
  },
  {
   "cell_type": "code",
   "execution_count": 11,
   "metadata": {
    "colab": {
     "base_uri": "https://localhost:8080/",
     "height": 34
    },
    "colab_type": "code",
    "id": "mOw3cuCH7fJ0",
    "outputId": "c38628d1-d226-4e48-e754-6830a98730a4"
   },
   "outputs": [
    {
     "data": {
      "text/plain": [
       "10"
      ]
     },
     "execution_count": 11,
     "metadata": {
      "tags": []
     },
     "output_type": "execute_result"
    }
   ],
   "source": [
    "len(app_packages)"
   ]
  },
  {
   "cell_type": "code",
   "execution_count": 12,
   "metadata": {
    "colab": {},
    "colab_type": "code",
    "id": "iJOCBKDA9sAr"
   },
   "outputs": [],
   "source": [
    "def print_json(json_object):\n",
    "  json_str = json.dumps(\n",
    "    json_object, \n",
    "    indent=2, \n",
    "    sort_keys=True, \n",
    "    default=str\n",
    "  )\n",
    "  print(json_str)"
   ]
  },
  {
   "cell_type": "code",
   "execution_count": 13,
   "metadata": {
    "colab": {},
    "colab_type": "code",
    "id": "i97kKBzM98lO"
   },
   "outputs": [],
   "source": [
    "app_reviews = []\n",
    "\n",
    "for ap in app_packages:\n",
    "  for sort_order in [Sort.MOST_RELEVANT, Sort.NEWEST]:\n",
    "    review, _ = reviews(\n",
    "            ap,\n",
    "            lang='en',\n",
    "            country='in',\n",
    "            sort=sort_order,\n",
    "            count= 1000,\n",
    "            filter_score_with=None\n",
    "            )\n",
    "    for r in review:\n",
    "      r['Sort_Order'] = 'most_relevant' if sort_order == Sort.MOST_RELEVANT else 'newest'\n",
    "      r['App_Id'] = ap\n",
    "    app_reviews.extend(review)"
   ]
  },
  {
   "cell_type": "code",
   "execution_count": 14,
   "metadata": {
    "colab": {
     "base_uri": "https://localhost:8080/",
     "height": 272
    },
    "colab_type": "code",
    "id": "4Ctn8lXK98sr",
    "outputId": "ab77812a-f10c-465b-cdd3-425609c6d8d6"
   },
   "outputs": [
    {
     "name": "stdout",
     "output_type": "stream",
     "text": [
      "{\n",
      "  \"App_Id\": \"com.mitron.tv\",\n",
      "  \"Sort_Order\": \"most_relevant\",\n",
      "  \"at\": \"2020-06-17 11:22:46\",\n",
      "  \"content\": \"Guy's great effort. But like to put some suggestions. 1) modify the icon get installed in screen. Its looking ordinary. It will be nice without blue background and little more attractive. 2) please improve the interface of the app. I think you have done a fantastic job. But need to be more user-friendly and atractive.current interface looks older. 3) please introduce location based content management. This will attract more people who like to watch contents in their local language.\",\n",
      "  \"repliedAt\": null,\n",
      "  \"replyContent\": null,\n",
      "  \"reviewCreatedVersion\": \"1.2.25\",\n",
      "  \"reviewId\": \"gp:AOqpTOEAhakI8MbHI_xnvWbUcrX-BBP842IJainmUlMsk6K9VwntR5mL1MLWE5Gx90uyXdbvu66j2syXwruJ-Jw\",\n",
      "  \"score\": 4,\n",
      "  \"thumbsUpCount\": 2267,\n",
      "  \"userImage\": \"https://lh3.googleusercontent.com/a-/AOh14GjDRfnBk3nEICPlhxiUhyGDQOiseO4BzxFAJFaQDQ\",\n",
      "  \"userName\": \"Arjunchandra\"\n",
      "}\n"
     ]
    }
   ],
   "source": [
    "print_json(app_reviews[0])"
   ]
  },
  {
   "cell_type": "code",
   "execution_count": 29,
   "metadata": {
    "colab": {},
    "colab_type": "code",
    "id": "dUa_QwsW98qt"
   },
   "outputs": [],
   "source": [
    "social_df_temp = pd.DataFrame(app_reviews)\n",
    "social_df=social_df_temp.iloc[:,[0,1,3,4,5,7,10,11]]\n",
    "social_df.to_csv('social_df.csv', index=None, header=True)"
   ]
  },
  {
   "cell_type": "code",
   "execution_count": 27,
   "metadata": {
    "colab": {
     "base_uri": "https://localhost:8080/",
     "height": 34
    },
    "colab_type": "code",
    "id": "IezFjjJG98oT",
    "outputId": "9e7ce67d-1426-4af7-dd33-305ec54e1ae4"
   },
   "outputs": [
    {
     "data": {
      "text/plain": [
       "(20000, 8)"
      ]
     },
     "execution_count": 27,
     "metadata": {
      "tags": []
     },
     "output_type": "execute_result"
    }
   ],
   "source": [
    "social_df.shape"
   ]
  },
  {
   "cell_type": "code",
   "execution_count": 28,
   "metadata": {
    "colab": {
     "base_uri": "https://localhost:8080/",
     "height": 94
    },
    "colab_type": "code",
    "id": "atrRHfWcCDBD",
    "outputId": "f33cc41a-e29f-4a7a-981d-a7922cf83647"
   },
   "outputs": [
    {
     "data": {
      "text/html": [
       "<div>\n",
       "<style scoped>\n",
       "    .dataframe tbody tr th:only-of-type {\n",
       "        vertical-align: middle;\n",
       "    }\n",
       "\n",
       "    .dataframe tbody tr th {\n",
       "        vertical-align: top;\n",
       "    }\n",
       "\n",
       "    .dataframe thead th {\n",
       "        text-align: right;\n",
       "    }\n",
       "</style>\n",
       "<table border=\"1\" class=\"dataframe\">\n",
       "  <thead>\n",
       "    <tr style=\"text-align: right;\">\n",
       "      <th></th>\n",
       "      <th>reviewId</th>\n",
       "      <th>userName</th>\n",
       "      <th>content</th>\n",
       "      <th>score</th>\n",
       "      <th>thumbsUpCount</th>\n",
       "      <th>at</th>\n",
       "      <th>Sort_Order</th>\n",
       "      <th>App_Id</th>\n",
       "    </tr>\n",
       "  </thead>\n",
       "  <tbody>\n",
       "    <tr>\n",
       "      <th>0</th>\n",
       "      <td>gp:AOqpTOEAhakI8MbHI_xnvWbUcrX-BBP842IJainmUlM...</td>\n",
       "      <td>Arjunchandra</td>\n",
       "      <td>Guy's great effort. But like to put some sugge...</td>\n",
       "      <td>4</td>\n",
       "      <td>2267</td>\n",
       "      <td>2020-06-17 11:22:46</td>\n",
       "      <td>most_relevant</td>\n",
       "      <td>com.mitron.tv</td>\n",
       "    </tr>\n",
       "  </tbody>\n",
       "</table>\n",
       "</div>"
      ],
      "text/plain": [
       "                                            reviewId  ...         App_Id\n",
       "0  gp:AOqpTOEAhakI8MbHI_xnvWbUcrX-BBP842IJainmUlM...  ...  com.mitron.tv\n",
       "\n",
       "[1 rows x 8 columns]"
      ]
     },
     "execution_count": 28,
     "metadata": {
      "tags": []
     },
     "output_type": "execute_result"
    }
   ],
   "source": [
    "social_df.head(1)"
   ]
  },
  {
   "cell_type": "code",
   "execution_count": 16,
   "metadata": {
    "colab": {},
    "colab_type": "code",
    "id": "lGtFtmpUCDEK"
   },
   "outputs": [],
   "source": []
  },
  {
   "cell_type": "code",
   "execution_count": 16,
   "metadata": {
    "colab": {},
    "colab_type": "code",
    "id": "Mt0nhs3oCDG3"
   },
   "outputs": [],
   "source": []
  },
  {
   "cell_type": "code",
   "execution_count": null,
   "metadata": {
    "colab": {},
    "colab_type": "code",
    "id": "ejpSNKBGCDJd"
   },
   "outputs": [],
   "source": []
  }
 ],
 "metadata": {
  "colab": {
   "name": "Social.ipynb",
   "provenance": []
  },
  "kernelspec": {
   "display_name": "Python 3",
   "language": "python",
   "name": "python3"
  },
  "language_info": {
   "codemirror_mode": {
    "name": "ipython",
    "version": 3
   },
   "file_extension": ".py",
   "mimetype": "text/x-python",
   "name": "python",
   "nbconvert_exporter": "python",
   "pygments_lexer": "ipython3",
   "version": "3.7.4"
  }
 },
 "nbformat": 4,
 "nbformat_minor": 1
}
