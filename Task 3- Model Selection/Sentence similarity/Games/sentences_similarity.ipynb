{
  "nbformat": 4,
  "nbformat_minor": 0,
  "metadata": {
    "colab": {
      "name": "sentences_similarity.ipynb",
      "provenance": [],
      "collapsed_sections": []
    },
    "kernelspec": {
      "name": "python3",
      "display_name": "Python 3"
    }
  },
  "cells": [
    {
      "cell_type": "code",
      "metadata": {
        "id": "IuAWMkByYoZO",
        "colab_type": "code",
        "colab": {
          "base_uri": "https://localhost:8080/",
          "height": 67
        },
        "outputId": "b1a2b87b-e1a3-489a-bb66-0440e075112f"
      },
      "source": [
        "import pandas as pd\n",
        "import numpy as np\n",
        "from gensim.summarization.summarizer import summarize \n",
        "from gensim.summarization import keywords\n",
        "import spacy\n",
        "import re           \n",
        "import nltk\n",
        "from bs4 import BeautifulSoup \n",
        "from keras.preprocessing.text import Tokenizer \n",
        "from keras.preprocessing.sequence import pad_sequences\n",
        "from nltk.corpus import stopwords \n",
        "nltk.download('stopwords')"
      ],
      "execution_count": null,
      "outputs": [
        {
          "output_type": "stream",
          "text": [
            "[nltk_data] Downloading package stopwords to /root/nltk_data...\n",
            "[nltk_data]   Package stopwords is already up-to-date!\n"
          ],
          "name": "stdout"
        },
        {
          "output_type": "execute_result",
          "data": {
            "text/plain": [
              "True"
            ]
          },
          "metadata": {
            "tags": []
          },
          "execution_count": 39
        }
      ]
    },
    {
      "cell_type": "code",
      "metadata": {
        "id": "-0fPrziAX_-Q",
        "colab_type": "code",
        "colab": {
          "base_uri": "https://localhost:8080/",
          "height": 67
        },
        "outputId": "86819ca0-6ba5-45dd-bc7b-eb84d6bceac8"
      },
      "source": [
        "from gensim.models.doc2vec import Doc2Vec, TaggedDocument\n",
        "from nltk.tokenize import word_tokenize\n",
        "import nltk\n",
        "nltk.download('punkt')"
      ],
      "execution_count": null,
      "outputs": [
        {
          "output_type": "stream",
          "text": [
            "[nltk_data] Downloading package punkt to /root/nltk_data...\n",
            "[nltk_data]   Package punkt is already up-to-date!\n"
          ],
          "name": "stdout"
        },
        {
          "output_type": "execute_result",
          "data": {
            "text/plain": [
              "True"
            ]
          },
          "metadata": {
            "tags": []
          },
          "execution_count": 40
        }
      ]
    },
    {
      "cell_type": "code",
      "metadata": {
        "id": "D0y5CyrugIMt",
        "colab_type": "code",
        "colab": {}
      },
      "source": [
        "pd.set_option('display.max_columns',None)\n",
        "pd.set_option('display.max_rows',None)"
      ],
      "execution_count": null,
      "outputs": []
    },
    {
      "cell_type": "code",
      "metadata": {
        "id": "cntypPZuYNqE",
        "colab_type": "code",
        "colab": {}
      },
      "source": [
        "data=pd.read_csv('/content/drive/My Drive/Dusra app/Dusra App/Task 2- Dataset/Games/games_df.csv', encoding='iso-8859-1')"
      ],
      "execution_count": null,
      "outputs": []
    },
    {
      "cell_type": "code",
      "metadata": {
        "id": "kRknLghBtmda",
        "colab_type": "code",
        "colab": {}
      },
      "source": [
        "data['cleaned_content']=data['content']\n",
        "data=data.dropna()"
      ],
      "execution_count": null,
      "outputs": []
    },
    {
      "cell_type": "code",
      "metadata": {
        "id": "Wviq7U5WuiGI",
        "colab_type": "code",
        "colab": {
          "base_uri": "https://localhost:8080/",
          "height": 770
        },
        "outputId": "c2ad0dd1-b9a5-44a7-f435-a4adb008350a"
      },
      "source": [
        "data.head()"
      ],
      "execution_count": null,
      "outputs": [
        {
          "output_type": "execute_result",
          "data": {
            "text/html": [
              "<div>\n",
              "<style scoped>\n",
              "    .dataframe tbody tr th:only-of-type {\n",
              "        vertical-align: middle;\n",
              "    }\n",
              "\n",
              "    .dataframe tbody tr th {\n",
              "        vertical-align: top;\n",
              "    }\n",
              "\n",
              "    .dataframe thead th {\n",
              "        text-align: right;\n",
              "    }\n",
              "</style>\n",
              "<table border=\"1\" class=\"dataframe\">\n",
              "  <thead>\n",
              "    <tr style=\"text-align: right;\">\n",
              "      <th></th>\n",
              "      <th>reviewId</th>\n",
              "      <th>userName</th>\n",
              "      <th>content</th>\n",
              "      <th>score</th>\n",
              "      <th>thumbsUpCount</th>\n",
              "      <th>at</th>\n",
              "      <th>Sort_Order</th>\n",
              "      <th>App_Id</th>\n",
              "      <th>cleaned_content</th>\n",
              "    </tr>\n",
              "  </thead>\n",
              "  <tbody>\n",
              "    <tr>\n",
              "      <th>0</th>\n",
              "      <td>gp:AOqpTOE-VFQ0bM0LerLxxZmEBkfWosnc1SxPs8RjLLa...</td>\n",
              "      <td>rummy vinay</td>\n",
              "      <td>I've playing this game for more than a year an...</td>\n",
              "      <td>4</td>\n",
              "      <td>3851</td>\n",
              "      <td>2020-06-21 08:13:05</td>\n",
              "      <td>most_relevant</td>\n",
              "      <td>com.dts.freefireth</td>\n",
              "      <td>I've playing this game for more than a year an...</td>\n",
              "    </tr>\n",
              "    <tr>\n",
              "      <th>1</th>\n",
              "      <td>gp:AOqpTOFg8Jv_Ok57T2Ws9urYGges44c3f829S0ZcCA3...</td>\n",
              "      <td>Luigi Tolosa</td>\n",
              "      <td>I think this game would be better if the serve...</td>\n",
              "      <td>3</td>\n",
              "      <td>3386</td>\n",
              "      <td>2020-06-21 04:31:56</td>\n",
              "      <td>most_relevant</td>\n",
              "      <td>com.dts.freefireth</td>\n",
              "      <td>I think this game would be better if the serve...</td>\n",
              "    </tr>\n",
              "    <tr>\n",
              "      <th>2</th>\n",
              "      <td>gp:AOqpTOGWnNWDeWanc3CEr0QOgFgZsjOfgKB6AKxGUoL...</td>\n",
              "      <td>PHUKHAZ .M.P</td>\n",
              "      <td>The game is really good to play even though th...</td>\n",
              "      <td>4</td>\n",
              "      <td>3107</td>\n",
              "      <td>2020-06-21 06:13:18</td>\n",
              "      <td>most_relevant</td>\n",
              "      <td>com.dts.freefireth</td>\n",
              "      <td>The game is really good to play even though th...</td>\n",
              "    </tr>\n",
              "    <tr>\n",
              "      <th>3</th>\n",
              "      <td>gp:AOqpTOExoh7P_S2Izd0lG08Q4iNWW7Qbkxe8CiyzDwu...</td>\n",
              "      <td>UNBELIVEABLE TEACHING</td>\n",
              "      <td>It's a good type of game and had a good time p...</td>\n",
              "      <td>3</td>\n",
              "      <td>744</td>\n",
              "      <td>2020-06-19 13:15:05</td>\n",
              "      <td>most_relevant</td>\n",
              "      <td>com.dts.freefireth</td>\n",
              "      <td>It's a good type of game and had a good time p...</td>\n",
              "    </tr>\n",
              "    <tr>\n",
              "      <th>4</th>\n",
              "      <td>gp:AOqpTOERYczBuHch65EV1qzYRUl1PSgf1CQ6yXZBoKc...</td>\n",
              "      <td>theo kingdom</td>\n",
              "      <td>Great game but kind of a wallet warriors game,...</td>\n",
              "      <td>3</td>\n",
              "      <td>549</td>\n",
              "      <td>2020-06-19 22:06:20</td>\n",
              "      <td>most_relevant</td>\n",
              "      <td>com.dts.freefireth</td>\n",
              "      <td>Great game but kind of a wallet warriors game,...</td>\n",
              "    </tr>\n",
              "  </tbody>\n",
              "</table>\n",
              "</div>"
            ],
            "text/plain": [
              "                                            reviewId               userName  \\\n",
              "0  gp:AOqpTOE-VFQ0bM0LerLxxZmEBkfWosnc1SxPs8RjLLa...            rummy vinay   \n",
              "1  gp:AOqpTOFg8Jv_Ok57T2Ws9urYGges44c3f829S0ZcCA3...           Luigi Tolosa   \n",
              "2  gp:AOqpTOGWnNWDeWanc3CEr0QOgFgZsjOfgKB6AKxGUoL...           PHUKHAZ .M.P   \n",
              "3  gp:AOqpTOExoh7P_S2Izd0lG08Q4iNWW7Qbkxe8CiyzDwu...  UNBELIVEABLE TEACHING   \n",
              "4  gp:AOqpTOERYczBuHch65EV1qzYRUl1PSgf1CQ6yXZBoKc...           theo kingdom   \n",
              "\n",
              "                                             content  score  thumbsUpCount  \\\n",
              "0  I've playing this game for more than a year an...      4           3851   \n",
              "1  I think this game would be better if the serve...      3           3386   \n",
              "2  The game is really good to play even though th...      4           3107   \n",
              "3  It's a good type of game and had a good time p...      3            744   \n",
              "4  Great game but kind of a wallet warriors game,...      3            549   \n",
              "\n",
              "                    at     Sort_Order              App_Id  \\\n",
              "0  2020-06-21 08:13:05  most_relevant  com.dts.freefireth   \n",
              "1  2020-06-21 04:31:56  most_relevant  com.dts.freefireth   \n",
              "2  2020-06-21 06:13:18  most_relevant  com.dts.freefireth   \n",
              "3  2020-06-19 13:15:05  most_relevant  com.dts.freefireth   \n",
              "4  2020-06-19 22:06:20  most_relevant  com.dts.freefireth   \n",
              "\n",
              "                                     cleaned_content  \n",
              "0  I've playing this game for more than a year an...  \n",
              "1  I think this game would be better if the serve...  \n",
              "2  The game is really good to play even though th...  \n",
              "3  It's a good type of game and had a good time p...  \n",
              "4  Great game but kind of a wallet warriors game,...  "
            ]
          },
          "metadata": {
            "tags": []
          },
          "execution_count": 45
        }
      ]
    },
    {
      "cell_type": "code",
      "metadata": {
        "id": "5Hg9gTDatmge",
        "colab_type": "code",
        "colab": {}
      },
      "source": [
        "contraction_mapping = {\"ain't\": \"is not\", \"aren't\": \"are not\",\"can't\": \"cannot\", \"'cause\": \"because\", \"could've\": \"could have\", \"couldn't\": \"could not\",\n",
        "\n",
        "                           \"didn't\": \"did not\", \"doesn't\": \"does not\", \"don't\": \"do not\", \"hadn't\": \"had not\", \"hasn't\": \"has not\", \"haven't\": \"have not\",\n",
        "\n",
        "                           \"he'd\": \"he would\",\"he'll\": \"he will\", \"he's\": \"he is\", \"how'd\": \"how did\", \"how'd'y\": \"how do you\", \"how'll\": \"how will\", \"how's\": \"how is\",\n",
        "\n",
        "                           \"I'd\": \"I would\", \"I'd've\": \"I would have\", \"I'll\": \"I will\", \"I'll've\": \"I will have\",\"I'm\": \"I am\", \"I've\": \"I have\", \"i'd\": \"i would\",\n",
        "\n",
        "                           \"i'd've\": \"i would have\", \"i'll\": \"i will\",  \"i'll've\": \"i will have\",\"i'm\": \"i am\", \"i've\": \"i have\", \"isn't\": \"is not\", \"it'd\": \"it would\",\n",
        "\n",
        "                           \"it'd've\": \"it would have\", \"it'll\": \"it will\", \"it'll've\": \"it will have\",\"it's\": \"it is\", \"let's\": \"let us\", \"ma'am\": \"madam\",\n",
        "\n",
        "                           \"mayn't\": \"may not\", \"might've\": \"might have\",\"mightn't\": \"might not\",\"mightn't've\": \"might not have\", \"must've\": \"must have\",\n",
        "\n",
        "                           \"mustn't\": \"must not\", \"mustn't've\": \"must not have\", \"needn't\": \"need not\", \"needn't've\": \"need not have\",\"o'clock\": \"of the clock\",\n",
        "\n",
        "                           \"oughtn't\": \"ought not\", \"oughtn't've\": \"ought not have\", \"shan't\": \"shall not\", \"sha'n't\": \"shall not\", \"shan't've\": \"shall not have\",\n",
        "\n",
        "                           \"she'd\": \"she would\", \"she'd've\": \"she would have\", \"she'll\": \"she will\", \"she'll've\": \"she will have\", \"she's\": \"she is\",\n",
        "\n",
        "                           \"should've\": \"should have\", \"shouldn't\": \"should not\", \"shouldn't've\": \"should not have\", \"so've\": \"so have\",\"so's\": \"so as\",\n",
        "\n",
        "                           \"this's\": \"this is\",\"that'd\": \"that would\", \"that'd've\": \"that would have\", \"that's\": \"that is\", \"there'd\": \"there would\",\n",
        "\n",
        "                           \"there'd've\": \"there would have\", \"there's\": \"there is\", \"here's\": \"here is\",\"they'd\": \"they would\", \"they'd've\": \"they would have\",\n",
        "\n",
        "                           \"they'll\": \"they will\", \"they'll've\": \"they will have\", \"they're\": \"they are\", \"they've\": \"they have\", \"to've\": \"to have\",\n",
        "\n",
        "                           \"wasn't\": \"was not\", \"we'd\": \"we would\", \"we'd've\": \"we would have\", \"we'll\": \"we will\", \"we'll've\": \"we will have\", \"we're\": \"we are\",\n",
        "\n",
        "                           \"we've\": \"we have\", \"weren't\": \"were not\", \"what'll\": \"what will\", \"what'll've\": \"what will have\", \"what're\": \"what are\",\n",
        "\n",
        "                           \"what's\": \"what is\", \"what've\": \"what have\", \"when's\": \"when is\", \"when've\": \"when have\", \"where'd\": \"where did\", \"where's\": \"where is\",\n",
        "\n",
        "                           \"where've\": \"where have\", \"who'll\": \"who will\", \"who'll've\": \"who will have\", \"who's\": \"who is\", \"who've\": \"who have\",\n",
        "\n",
        "                           \"why's\": \"why is\", \"why've\": \"why have\", \"will've\": \"will have\", \"won't\": \"will not\", \"won't've\": \"will not have\",\n",
        "\n",
        "                           \"would've\": \"would have\", \"wouldn't\": \"would not\", \"wouldn't've\": \"would not have\", \"y'all\": \"you all\",\n",
        "\n",
        "                           \"y'all'd\": \"you all would\",\"y'all'd've\": \"you all would have\",\"y'all're\": \"you all are\",\"y'all've\": \"you all have\",\n",
        "\n",
        "                           \"you'd\": \"you would\", \"you'd've\": \"you would have\", \"you'll\": \"you will\", \"you'll've\": \"you will have\",\n",
        "\n",
        "                           \"you're\": \"you are\", \"you've\": \"you have\"}\n"
      ],
      "execution_count": null,
      "outputs": []
    },
    {
      "cell_type": "code",
      "metadata": {
        "id": "y2F9GPUqtmmR",
        "colab_type": "code",
        "colab": {}
      },
      "source": [
        "import re\n",
        "def remove_emoji(string):\n",
        "    emoji_pattern = re.compile(\"[\"\n",
        "                           u\"\\U0001F600-\\U0001F64F\" # emoticons\n",
        "                           u\"\\U0001F300-\\U0001F5FF\" # symbols & pictographs\n",
        "                           u\"\\U0001F680-\\U0001F6FF\" # transport & map symbols\n",
        "                           u\"\\U0001F1E0-\\U0001F1FF\" # flags (iOS)\n",
        "                           u\"\\U00002702-\\U000027B0\"\n",
        "                           u\"\\U000024C2-\\U0001F251\"\n",
        "                           \"]+\", flags=re.UNICODE)\n",
        "    return emoji_pattern.sub(r'', string)\n",
        "data['cleaned_content']=(data['content'].astype(str)).apply(lambda x:remove_emoji(x))"
      ],
      "execution_count": null,
      "outputs": []
    },
    {
      "cell_type": "code",
      "metadata": {
        "id": "KaRuagystmr6",
        "colab_type": "code",
        "colab": {}
      },
      "source": [
        "stop_words = set(stopwords.words('english')) \n",
        "def text_cleaner(text):\n",
        "  newString=text\n",
        "  newString = BeautifulSoup(newString, \"lxml\").text\n",
        "  newString = re.sub(r'\\([^)]*\\)', '', newString)\n",
        "  newString = re.sub('\"','', newString)\n",
        "  newString = text.lower()\n",
        "  newString = ' '.join([contraction_mapping[t] if t in contraction_mapping else t for t in newString.split(\" \")])    \n",
        "  newString = re.sub(r\"'s\\b\",\"\",newString)\n",
        "  newString = re.sub(\"[^a-zA-Z]\", \" \", newString) \n",
        "  tokens = [w for w in newString.split() if not w in stop_words]\n",
        "  long_words=[]\n",
        "  for i in tokens:\n",
        "    if len(i)>=3:             \n",
        "      long_words.append(i)   \n",
        "  return (\" \".join(long_words)).strip()\n",
        "\n",
        "cleaned_text = []\n",
        "for t in data['cleaned_content']:\n",
        "    cleaned_text.append(text_cleaner(t))\n",
        "data['cleaned_content']=cleaned_text"
      ],
      "execution_count": null,
      "outputs": []
    },
    {
      "cell_type": "code",
      "metadata": {
        "id": "tZPI5ZT-tmvN",
        "colab_type": "code",
        "colab": {
          "base_uri": "https://localhost:8080/",
          "height": 770
        },
        "outputId": "f274993a-1d8d-47bb-c8ab-3a4872c2f038"
      },
      "source": [
        "data.head()"
      ],
      "execution_count": null,
      "outputs": [
        {
          "output_type": "execute_result",
          "data": {
            "text/html": [
              "<div>\n",
              "<style scoped>\n",
              "    .dataframe tbody tr th:only-of-type {\n",
              "        vertical-align: middle;\n",
              "    }\n",
              "\n",
              "    .dataframe tbody tr th {\n",
              "        vertical-align: top;\n",
              "    }\n",
              "\n",
              "    .dataframe thead th {\n",
              "        text-align: right;\n",
              "    }\n",
              "</style>\n",
              "<table border=\"1\" class=\"dataframe\">\n",
              "  <thead>\n",
              "    <tr style=\"text-align: right;\">\n",
              "      <th></th>\n",
              "      <th>reviewId</th>\n",
              "      <th>userName</th>\n",
              "      <th>content</th>\n",
              "      <th>score</th>\n",
              "      <th>thumbsUpCount</th>\n",
              "      <th>at</th>\n",
              "      <th>Sort_Order</th>\n",
              "      <th>App_Id</th>\n",
              "      <th>cleaned_content</th>\n",
              "    </tr>\n",
              "  </thead>\n",
              "  <tbody>\n",
              "    <tr>\n",
              "      <th>0</th>\n",
              "      <td>gp:AOqpTOE-VFQ0bM0LerLxxZmEBkfWosnc1SxPs8RjLLa...</td>\n",
              "      <td>rummy vinay</td>\n",
              "      <td>I've playing this game for more than a year an...</td>\n",
              "      <td>4</td>\n",
              "      <td>3851</td>\n",
              "      <td>2020-06-21 08:13:05</td>\n",
              "      <td>most_relevant</td>\n",
              "      <td>com.dts.freefireth</td>\n",
              "      <td>playing game year still purchased one elite pa...</td>\n",
              "    </tr>\n",
              "    <tr>\n",
              "      <th>1</th>\n",
              "      <td>gp:AOqpTOFg8Jv_Ok57T2Ws9urYGges44c3f829S0ZcCA3...</td>\n",
              "      <td>Luigi Tolosa</td>\n",
              "      <td>I think this game would be better if the serve...</td>\n",
              "      <td>3</td>\n",
              "      <td>3386</td>\n",
              "      <td>2020-06-21 04:31:56</td>\n",
              "      <td>most_relevant</td>\n",
              "      <td>com.dts.freefireth</td>\n",
              "      <td>think game would better server fix network con...</td>\n",
              "    </tr>\n",
              "    <tr>\n",
              "      <th>2</th>\n",
              "      <td>gp:AOqpTOGWnNWDeWanc3CEr0QOgFgZsjOfgKB6AKxGUoL...</td>\n",
              "      <td>PHUKHAZ .M.P</td>\n",
              "      <td>The game is really good to play even though th...</td>\n",
              "      <td>4</td>\n",
              "      <td>3107</td>\n",
              "      <td>2020-06-21 06:13:18</td>\n",
              "      <td>most_relevant</td>\n",
              "      <td>com.dts.freefireth</td>\n",
              "      <td>game really good play even though graphics mar...</td>\n",
              "    </tr>\n",
              "    <tr>\n",
              "      <th>3</th>\n",
              "      <td>gp:AOqpTOExoh7P_S2Izd0lG08Q4iNWW7Qbkxe8CiyzDwu...</td>\n",
              "      <td>UNBELIVEABLE TEACHING</td>\n",
              "      <td>It's a good type of game and had a good time p...</td>\n",
              "      <td>3</td>\n",
              "      <td>744</td>\n",
              "      <td>2020-06-19 13:15:05</td>\n",
              "      <td>most_relevant</td>\n",
              "      <td>com.dts.freefireth</td>\n",
              "      <td>good type game good time playing experience al...</td>\n",
              "    </tr>\n",
              "    <tr>\n",
              "      <th>4</th>\n",
              "      <td>gp:AOqpTOERYczBuHch65EV1qzYRUl1PSgf1CQ6yXZBoKc...</td>\n",
              "      <td>theo kingdom</td>\n",
              "      <td>Great game but kind of a wallet warriors game,...</td>\n",
              "      <td>3</td>\n",
              "      <td>549</td>\n",
              "      <td>2020-06-19 22:06:20</td>\n",
              "      <td>most_relevant</td>\n",
              "      <td>com.dts.freefireth</td>\n",
              "      <td>great game kind wallet warriors game pay gems ...</td>\n",
              "    </tr>\n",
              "  </tbody>\n",
              "</table>\n",
              "</div>"
            ],
            "text/plain": [
              "                                            reviewId               userName  \\\n",
              "0  gp:AOqpTOE-VFQ0bM0LerLxxZmEBkfWosnc1SxPs8RjLLa...            rummy vinay   \n",
              "1  gp:AOqpTOFg8Jv_Ok57T2Ws9urYGges44c3f829S0ZcCA3...           Luigi Tolosa   \n",
              "2  gp:AOqpTOGWnNWDeWanc3CEr0QOgFgZsjOfgKB6AKxGUoL...           PHUKHAZ .M.P   \n",
              "3  gp:AOqpTOExoh7P_S2Izd0lG08Q4iNWW7Qbkxe8CiyzDwu...  UNBELIVEABLE TEACHING   \n",
              "4  gp:AOqpTOERYczBuHch65EV1qzYRUl1PSgf1CQ6yXZBoKc...           theo kingdom   \n",
              "\n",
              "                                             content  score  thumbsUpCount  \\\n",
              "0  I've playing this game for more than a year an...      4           3851   \n",
              "1  I think this game would be better if the serve...      3           3386   \n",
              "2  The game is really good to play even though th...      4           3107   \n",
              "3  It's a good type of game and had a good time p...      3            744   \n",
              "4  Great game but kind of a wallet warriors game,...      3            549   \n",
              "\n",
              "                    at     Sort_Order              App_Id  \\\n",
              "0  2020-06-21 08:13:05  most_relevant  com.dts.freefireth   \n",
              "1  2020-06-21 04:31:56  most_relevant  com.dts.freefireth   \n",
              "2  2020-06-21 06:13:18  most_relevant  com.dts.freefireth   \n",
              "3  2020-06-19 13:15:05  most_relevant  com.dts.freefireth   \n",
              "4  2020-06-19 22:06:20  most_relevant  com.dts.freefireth   \n",
              "\n",
              "                                     cleaned_content  \n",
              "0  playing game year still purchased one elite pa...  \n",
              "1  think game would better server fix network con...  \n",
              "2  game really good play even though graphics mar...  \n",
              "3  good type game good time playing experience al...  \n",
              "4  great game kind wallet warriors game pay gems ...  "
            ]
          },
          "metadata": {
            "tags": []
          },
          "execution_count": 49
        }
      ]
    },
    {
      "cell_type": "code",
      "metadata": {
        "id": "YvMlqHLEcAcP",
        "colab_type": "code",
        "colab": {}
      },
      "source": [
        "data=data.dropna()"
      ],
      "execution_count": null,
      "outputs": []
    },
    {
      "cell_type": "code",
      "metadata": {
        "id": "HSAigF0TYNsM",
        "colab_type": "code",
        "colab": {}
      },
      "source": [
        "dataset=[]\n",
        "temp=list(data['cleaned_content'])\n",
        "dataset=[TaggedDocument(words=word_tokenize(_d.lower()), tags=[str(i)]) for i, _d in enumerate(temp)]"
      ],
      "execution_count": null,
      "outputs": []
    },
    {
      "cell_type": "code",
      "metadata": {
        "id": "jda0_ihJYNua",
        "colab_type": "code",
        "colab": {}
      },
      "source": [
        "data['cleaned_content']"
      ],
      "execution_count": null,
      "outputs": []
    },
    {
      "cell_type": "code",
      "metadata": {
        "id": "_rNYoJS2uSB0",
        "colab_type": "code",
        "colab": {
          "base_uri": "https://localhost:8080/",
          "height": 185
        },
        "outputId": "ddabe4cc-7ee2-464f-ea8b-f859468fe6aa"
      },
      "source": [
        "data.isna().sum()"
      ],
      "execution_count": null,
      "outputs": [
        {
          "output_type": "execute_result",
          "data": {
            "text/plain": [
              "reviewId           0\n",
              "userName           0\n",
              "content            0\n",
              "score              0\n",
              "thumbsUpCount      0\n",
              "at                 0\n",
              "Sort_Order         0\n",
              "App_Id             0\n",
              "cleaned_content    0\n",
              "dtype: int64"
            ]
          },
          "metadata": {
            "tags": []
          },
          "execution_count": 53
        }
      ]
    },
    {
      "cell_type": "code",
      "metadata": {
        "id": "FQP0ipqEYNzO",
        "colab_type": "code",
        "colab": {
          "base_uri": "https://localhost:8080/",
          "height": 34
        },
        "outputId": "6b5e2ede-82a8-4623-d61f-e0b993f52b69"
      },
      "source": [
        "len(dataset)"
      ],
      "execution_count": null,
      "outputs": [
        {
          "output_type": "execute_result",
          "data": {
            "text/plain": [
              "19999"
            ]
          },
          "metadata": {
            "tags": []
          },
          "execution_count": 54
        }
      ]
    },
    {
      "cell_type": "code",
      "metadata": {
        "id": "fiuqvyYGYN1J",
        "colab_type": "code",
        "colab": {}
      },
      "source": [
        "max_epochs = 100\n",
        "vec_size = 20\n",
        "alpha = 0.025"
      ],
      "execution_count": null,
      "outputs": []
    },
    {
      "cell_type": "code",
      "metadata": {
        "id": "bFRiExnXYN3P",
        "colab_type": "code",
        "colab": {
          "base_uri": "https://localhost:8080/",
          "height": 70
        },
        "outputId": "488417dc-cb96-4731-9af4-eceacab4cb53"
      },
      "source": [
        "model = Doc2Vec(size=vec_size,\n",
        "                alpha=alpha, \n",
        "                min_alpha=0.00025,\n",
        "                min_count=1,\n",
        "                dm =1)"
      ],
      "execution_count": null,
      "outputs": [
        {
          "output_type": "stream",
          "text": [
            "/usr/local/lib/python3.6/dist-packages/gensim/models/doc2vec.py:570: UserWarning: The parameter `size` is deprecated, will be removed in 4.0.0, use `vector_size` instead.\n",
            "  warnings.warn(\"The parameter `size` is deprecated, will be removed in 4.0.0, use `vector_size` instead.\")\n"
          ],
          "name": "stderr"
        }
      ]
    },
    {
      "cell_type": "code",
      "metadata": {
        "id": "fYpmRPr9catF",
        "colab_type": "code",
        "colab": {
          "base_uri": "https://localhost:8080/",
          "height": 1000
        },
        "outputId": "eb65f3c1-cbe7-42d9-eb30-1bc31bbf85a0"
      },
      "source": [
        "model.build_vocab(dataset)\n",
        "\n",
        "for epoch in range(max_epochs):\n",
        "    print('iteration {0}'.format(epoch))\n",
        "    model.train(dataset,\n",
        "                total_examples=model.corpus_count,\n",
        "                epochs=model.iter)\n",
        "    # decrease the learning rate\n",
        "    model.alpha -= 0.0002\n",
        "    # fix the learning rate, no decay\n",
        "    model.min_alpha = model.alpha"
      ],
      "execution_count": null,
      "outputs": [
        {
          "output_type": "stream",
          "text": [
            "iteration 0\n"
          ],
          "name": "stdout"
        },
        {
          "output_type": "stream",
          "text": [
            "/usr/local/lib/python3.6/dist-packages/ipykernel_launcher.py:7: DeprecationWarning: Call to deprecated `iter` (Attribute will be removed in 4.0.0, use self.epochs instead).\n",
            "  import sys\n"
          ],
          "name": "stderr"
        },
        {
          "output_type": "stream",
          "text": [
            "iteration 1\n",
            "iteration 2\n",
            "iteration 3\n",
            "iteration 4\n",
            "iteration 5\n",
            "iteration 6\n",
            "iteration 7\n",
            "iteration 8\n",
            "iteration 9\n",
            "iteration 10\n",
            "iteration 11\n",
            "iteration 12\n",
            "iteration 13\n",
            "iteration 14\n",
            "iteration 15\n",
            "iteration 16\n",
            "iteration 17\n",
            "iteration 18\n",
            "iteration 19\n",
            "iteration 20\n",
            "iteration 21\n",
            "iteration 22\n",
            "iteration 23\n",
            "iteration 24\n",
            "iteration 25\n",
            "iteration 26\n",
            "iteration 27\n",
            "iteration 28\n",
            "iteration 29\n",
            "iteration 30\n",
            "iteration 31\n",
            "iteration 32\n",
            "iteration 33\n",
            "iteration 34\n",
            "iteration 35\n",
            "iteration 36\n",
            "iteration 37\n",
            "iteration 38\n",
            "iteration 39\n",
            "iteration 40\n",
            "iteration 41\n",
            "iteration 42\n",
            "iteration 43\n",
            "iteration 44\n",
            "iteration 45\n",
            "iteration 46\n",
            "iteration 47\n",
            "iteration 48\n",
            "iteration 49\n",
            "iteration 50\n",
            "iteration 51\n",
            "iteration 52\n",
            "iteration 53\n",
            "iteration 54\n",
            "iteration 55\n",
            "iteration 56\n",
            "iteration 57\n",
            "iteration 58\n",
            "iteration 59\n",
            "iteration 60\n",
            "iteration 61\n",
            "iteration 62\n",
            "iteration 63\n",
            "iteration 64\n",
            "iteration 65\n",
            "iteration 66\n",
            "iteration 67\n",
            "iteration 68\n",
            "iteration 69\n",
            "iteration 70\n",
            "iteration 71\n",
            "iteration 72\n",
            "iteration 73\n",
            "iteration 74\n",
            "iteration 75\n",
            "iteration 76\n",
            "iteration 77\n",
            "iteration 78\n",
            "iteration 79\n",
            "iteration 80\n",
            "iteration 81\n",
            "iteration 82\n",
            "iteration 83\n",
            "iteration 84\n",
            "iteration 85\n",
            "iteration 86\n",
            "iteration 87\n",
            "iteration 88\n",
            "iteration 89\n",
            "iteration 90\n",
            "iteration 91\n",
            "iteration 92\n",
            "iteration 93\n",
            "iteration 94\n",
            "iteration 95\n",
            "iteration 96\n",
            "iteration 97\n",
            "iteration 98\n",
            "iteration 99\n"
          ],
          "name": "stdout"
        }
      ]
    },
    {
      "cell_type": "code",
      "metadata": {
        "id": "7jchQMiycavn",
        "colab_type": "code",
        "colab": {
          "base_uri": "https://localhost:8080/",
          "height": 87
        },
        "outputId": "f165242c-c69a-45b3-e5b7-1a6cf75fef9a"
      },
      "source": [
        "model.save(\"d2v1.model\")\n",
        "print(\"Model Saved\")"
      ],
      "execution_count": null,
      "outputs": [
        {
          "output_type": "stream",
          "text": [
            "/usr/local/lib/python3.6/dist-packages/smart_open/smart_open_lib.py:253: UserWarning: This function is deprecated, use smart_open.open instead. See the migration notes for details: https://github.com/RaRe-Technologies/smart_open/blob/master/README.rst#migrating-to-the-new-open-function\n",
            "  'See the migration notes for details: %s' % _MIGRATION_NOTES_URL\n"
          ],
          "name": "stderr"
        },
        {
          "output_type": "stream",
          "text": [
            "Model Saved\n"
          ],
          "name": "stdout"
        }
      ]
    },
    {
      "cell_type": "code",
      "metadata": {
        "id": "LY61CPjncayG",
        "colab_type": "code",
        "colab": {
          "base_uri": "https://localhost:8080/",
          "height": 70
        },
        "outputId": "491148a6-e849-4c10-8a90-8e4c00b6981b"
      },
      "source": [
        "from gensim.models.doc2vec import Doc2Vec\n",
        "\n",
        "model= Doc2Vec.load(\"d2v1.model\")\n"
      ],
      "execution_count": null,
      "outputs": [
        {
          "output_type": "stream",
          "text": [
            "/usr/local/lib/python3.6/dist-packages/smart_open/smart_open_lib.py:253: UserWarning: This function is deprecated, use smart_open.open instead. See the migration notes for details: https://github.com/RaRe-Technologies/smart_open/blob/master/README.rst#migrating-to-the-new-open-function\n",
            "  'See the migration notes for details: %s' % _MIGRATION_NOTES_URL\n"
          ],
          "name": "stderr"
        }
      ]
    },
    {
      "cell_type": "code",
      "metadata": {
        "id": "FeWrHuNbca0V",
        "colab_type": "code",
        "colab": {
          "base_uri": "https://localhost:8080/",
          "height": 34
        },
        "outputId": "12a2c079-1a6e-401a-f65e-83978f228146"
      },
      "source": [
        "text=\"Tgood game\"\n",
        "text=remove_emoji(text)\n",
        "text=text_cleaner(text)\n",
        "text=word_tokenize(text.lower())\n",
        "text"
      ],
      "execution_count": null,
      "outputs": [
        {
          "output_type": "execute_result",
          "data": {
            "text/plain": [
              "['tgood', 'game']"
            ]
          },
          "metadata": {
            "tags": []
          },
          "execution_count": 81
        }
      ]
    },
    {
      "cell_type": "code",
      "metadata": {
        "id": "XdWSwE6Ica20",
        "colab_type": "code",
        "colab": {
          "base_uri": "https://localhost:8080/",
          "height": 70
        },
        "outputId": "9ffe187a-de44-40fa-8f1e-e1d9e33b5b67"
      },
      "source": [
        "vector=model.infer_vector(text)\n",
        "index = model.docvecs.most_similar([vector],topn=10)"
      ],
      "execution_count": null,
      "outputs": [
        {
          "output_type": "stream",
          "text": [
            "/usr/local/lib/python3.6/dist-packages/gensim/matutils.py:737: FutureWarning: Conversion of the second argument of issubdtype from `int` to `np.signedinteger` is deprecated. In future, it will be treated as `np.int64 == np.dtype(int).type`.\n",
            "  if np.issubdtype(vec.dtype, np.int):\n"
          ],
          "name": "stderr"
        }
      ]
    },
    {
      "cell_type": "code",
      "metadata": {
        "id": "p7VIbA-rnHu3",
        "colab_type": "code",
        "colab": {
          "base_uri": "https://localhost:8080/",
          "height": 54
        },
        "outputId": "d95a159c-4e93-4c0b-8518-1fc2863aa26c"
      },
      "source": [
        "print(index)"
      ],
      "execution_count": null,
      "outputs": [
        {
          "output_type": "stream",
          "text": [
            "[('11621', 0.7958335280418396), ('222', 0.7467595338821411), ('11094', 0.7314677238464355), ('4558', 0.7221856713294983), ('194', 0.7219529151916504), ('1455', 0.7200127840042114), ('12362', 0.7090641856193542), ('8351', 0.6954125165939331), ('9580', 0.6917666792869568), ('3041', 0.6903694272041321)]\n"
          ],
          "name": "stdout"
        }
      ]
    },
    {
      "cell_type": "code",
      "metadata": {
        "id": "MXA6aVpEca4-",
        "colab_type": "code",
        "colab": {}
      },
      "source": [
        "res=[]\n",
        "for i in range(len(index)):\n",
        "  res.append(data['content'][int(index[i][0])])"
      ],
      "execution_count": null,
      "outputs": []
    },
    {
      "cell_type": "code",
      "metadata": {
        "id": "zs8gZhVzfMQ_",
        "colab_type": "code",
        "colab": {
          "base_uri": "https://localhost:8080/",
          "height": 205
        },
        "outputId": "b5bd13e4-0e73-4ad2-9669-f83a32467c16"
      },
      "source": [
        "res"
      ],
      "execution_count": null,
      "outputs": [
        {
          "output_type": "execute_result",
          "data": {
            "text/plain": [
              "['Enjoyed a lot this game. 1000 times better than PubG',\n",
              " \"This is a pay to win game, the game used to be fun but the events they give are more shady then a Las Vegas Casino, hacker issue has been bothering the player base for a long time, also the games connection issue is big thing, one moment you have 50ms and instantly get 300+ms while using WiFi and if you thing WiFi is slow I play Warzone all the time and get 60ms average, if you don't want to get addicted and spend huge amount of money and get kicked out of your house then don't play this F game\",\n",
              " 'Why do people complain about there devices problem and not the game',\n",
              " 'I cant recover my account and too many ads.',\n",
              " \"I have been playing this game for over a 2 years now. The only thing I doesn't like is the network problem and only the elite pass holders are getting rare items and other are not. So whatever the items like bundles or gun skins and other items, just give to players by challenges, so that they may encouraged. #Thank u Garena, Thank u Free Fire#\",\n",
              " 'network problem is free Fire game',\n",
              " 'This is not a game, no game mechanics either. You only spin spin spin, you \"attack\" peoples(almost all the time bots) villages if you get 3 hammers. You rob if you get 3 pigs. And that\\'s it. Every time you run out spins game starts spamming you with the same popups you close 10 seconds ago. There iÅ\\x9f no content, no gameplay I don\\'t know how these celebrities were tricked to play in those ads.',\n",
              " 'Not support phone Network, But Connect to WiFi why ?',\n",
              " 'Idea network Me teen patti support nahi ho rahi',\n",
              " 'It is wifi replay']"
            ]
          },
          "metadata": {
            "tags": []
          },
          "execution_count": 85
        }
      ]
    },
    {
      "cell_type": "code",
      "metadata": {
        "id": "qhPuzPtyca-E",
        "colab_type": "code",
        "colab": {
          "base_uri": "https://localhost:8080/",
          "height": 185
        },
        "outputId": "7c4ba079-58ed-4b62-df1a-d199a323a489"
      },
      "source": [
        "index"
      ],
      "execution_count": null,
      "outputs": [
        {
          "output_type": "execute_result",
          "data": {
            "text/plain": [
              "[('11621', 0.7958335280418396),\n",
              " ('222', 0.7467595338821411),\n",
              " ('11094', 0.7314677238464355),\n",
              " ('4558', 0.7221856713294983),\n",
              " ('194', 0.7219529151916504),\n",
              " ('1455', 0.7200127840042114),\n",
              " ('12362', 0.7090641856193542),\n",
              " ('8351', 0.6954125165939331),\n",
              " ('9580', 0.6917666792869568),\n",
              " ('3041', 0.6903694272041321)]"
            ]
          },
          "metadata": {
            "tags": []
          },
          "execution_count": 86
        }
      ]
    },
    {
      "cell_type": "markdown",
      "metadata": {
        "id": "JAh_zLh6wQVq",
        "colab_type": "text"
      },
      "source": [
        "ye above 10 ko summary create karna h , extractive wala\n"
      ]
    },
    {
      "cell_type": "code",
      "metadata": {
        "id": "pFppgHQxegyB",
        "colab_type": "code",
        "colab": {}
      },
      "source": [
        ""
      ],
      "execution_count": null,
      "outputs": []
    },
    {
      "cell_type": "code",
      "metadata": {
        "id": "XRnRhwMkonOn",
        "colab_type": "code",
        "colab": {}
      },
      "source": [
        ""
      ],
      "execution_count": null,
      "outputs": []
    }
  ]
}